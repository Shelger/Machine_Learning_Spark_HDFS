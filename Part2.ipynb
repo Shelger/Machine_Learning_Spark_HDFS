{
 "cells": [
  {
   "cell_type": "markdown",
   "id": "82786354",
   "metadata": {},
   "source": [
    "Describe the dataset:<br>\n",
    "This dataset contains comprehensive flight details for various airlines. Each row represents a unique flight and contains 50+ features such as FlightDate, Airline, Origin, Destination, Cancelled status, Diverted status, Scheduled and Actual Departure and Arrival times, Departure and Arrival Delays, AirTime, Distance, Day of the week, Airline codes, Airport identifiers, Origin and Destination city names and states, and more.\n",
    "\n",
    "Outline the types of insights you hope to gain from it and make hypotheses about what you might find:<br>\n",
    "I aim to explore flight delays, cancellations, and diversions in detail. Here are some hypotheses that I could test:\n",
    "Certain airlines might have more delays or cancellations than others.\n",
    "Flight elapsed time diff might not be influenced by distance\n",
    "Departure delays can be simulated as a training model."
   ]
  },
  {
   "cell_type": "code",
   "execution_count": 35,
   "id": "5b4d360a",
   "metadata": {},
   "outputs": [],
   "source": [
    "# Flight Data Analysis\n",
    "# This notebook presents an exploratory data analysis of a flight dataset. The goal is to identify trends and patterns related to flight delays and cancellations.\n",
    "\n",
    "from pyspark.sql import SparkSession\n",
    "import torch\n",
    "import torch.nn as nn\n",
    "import torch.nn.functional as F\n",
    "import torch.optim as optim\n",
    "import pandas\n",
    "import matplotlib.pyplot as plt\n",
    "from torch.utils.data import Dataset, DataLoader\n",
    "from pyspark.ml.feature import StringIndexer, OneHotEncoder\n",
    "from pyspark.ml.feature import VectorAssembler"
   ]
  },
  {
   "cell_type": "code",
   "execution_count": 36,
   "id": "af5b764c",
   "metadata": {},
   "outputs": [],
   "source": [
    "spark = SparkSession.builder \\\n",
    "    .appName(\"Read Parquet Files\") \\\n",
    "    .master(\"yarn\") \\\n",
    "    .getOrCreate()"
   ]
  },
  {
   "cell_type": "code",
   "execution_count": 37,
   "id": "e9d719cb",
   "metadata": {},
   "outputs": [],
   "source": [
    "parquet_files_path = \"hdfs:/parquet_data/\"\n",
    "df = spark.read.parquet(parquet_files_path)\n",
    "selected_df = df.select('FlightDate', 'Airline', 'Origin', 'Dest', 'Cancelled', 'Diverted', 'DepDelayMinutes', 'CRSElapsedTime', 'ActualElapsedTime', 'Distance')"
   ]
  },
  {
   "cell_type": "code",
   "execution_count": 38,
   "id": "bf0bbce6",
   "metadata": {
    "scrolled": true
   },
   "outputs": [
    {
     "name": "stdout",
     "output_type": "stream",
     "text": [
      "root\n",
      " |-- FlightDate: timestamp (nullable = true)\n",
      " |-- Airline: string (nullable = true)\n",
      " |-- Origin: string (nullable = true)\n",
      " |-- Dest: string (nullable = true)\n",
      " |-- Cancelled: boolean (nullable = true)\n",
      " |-- Diverted: boolean (nullable = true)\n",
      " |-- DepDelayMinutes: double (nullable = true)\n",
      " |-- CRSElapsedTime: double (nullable = true)\n",
      " |-- ActualElapsedTime: double (nullable = true)\n",
      " |-- Distance: double (nullable = true)\n",
      "\n"
     ]
    }
   ],
   "source": [
    "selected_df.printSchema()"
   ]
  },
  {
   "cell_type": "markdown",
   "id": "2b27f7dd",
   "metadata": {},
   "source": [
    "Collect and clean the data for analysis and provide a basic set of summary information about the features in your dataset: <br>\n",
    "The Columns I left are:\n",
    "| Column | Type | Unit |\n",
    "|-----------------|-----------------|-----------------|\n",
    "| FlightDate | timestamp | - |\n",
    "| Airline | string | - |\n",
    "| Origin | string | - |\n",
    "| Dest | string | - |\n",
    "| Cancelled | boolean | - |\n",
    "| Diverted | boolean | - |\n",
    "| DepDelayMinutes | double | min |\n",
    "| CRSElapsedTime | double | min |\n",
    "| ActualElapsedTime | double | min |\n",
    "| Distance | double | mile |"
   ]
  },
  {
   "cell_type": "code",
   "execution_count": 39,
   "id": "e13be990",
   "metadata": {
    "scrolled": true
   },
   "outputs": [
    {
     "name": "stdout",
     "output_type": "stream",
     "text": [
      "[Row(FlightDate=datetime.datetime(2018, 1, 22, 16, 0), Airline='Endeavor Air Inc.', Origin='ABY', Dest='ATL', Cancelled=False, Diverted=False, DepDelayMinutes=0.0, CRSElapsedTime=62.0, ActualElapsedTime=59.0, Distance=145.0)]\n"
     ]
    }
   ],
   "source": [
    "print(selected_df.take(1))"
   ]
  },
  {
   "cell_type": "code",
   "execution_count": 40,
   "id": "263e911b",
   "metadata": {},
   "outputs": [],
   "source": [
    "# Which airline has the most cancelled flights?\n",
    "cancelled = selected_df.filter(selected_df.Cancelled==True)"
   ]
  },
  {
   "cell_type": "code",
   "execution_count": 41,
   "id": "9116cb4f",
   "metadata": {},
   "outputs": [
    {
     "name": "stdout",
     "output_type": "stream",
     "text": [
      "23/05/20 01:01:56 WARN package: Truncated the string representation of a plan since it was too large. This behavior can be adjusted by setting 'spark.sql.debug.maxToStringFields'.\n"
     ]
    },
    {
     "name": "stderr",
     "output_type": "stream",
     "text": [
      "\r",
      "[Stage 40:=====================================================>  (20 + 1) / 21]\r"
     ]
    },
    {
     "name": "stdout",
     "output_type": "stream",
     "text": [
      "+--------------------+---------------+\n",
      "|             airline|cancelled_count|\n",
      "+--------------------+---------------+\n",
      "|Southwest Airline...|         171408|\n",
      "+--------------------+---------------+\n",
      "\n"
     ]
    },
    {
     "name": "stderr",
     "output_type": "stream",
     "text": [
      "\r",
      "                                                                                \r"
     ]
    }
   ],
   "source": [
    "cancelled.createOrReplaceTempView(\"cancelled_table\")\n",
    "spark.sql(\"\"\"\n",
    "          SELECT airline, COUNT(*) as cancelled_count\n",
    "          FROM cancelled_table\n",
    "          GROUP BY airline\n",
    "          ORDER BY cancelled_count DESC\n",
    "          LIMIT 1\n",
    "          \"\"\").show()\n",
    "# Okay, Southwest Airline is the best known for its cancelled flights"
   ]
  },
  {
   "cell_type": "markdown",
   "id": "290e18cf",
   "metadata": {},
   "source": [
    "Design at least 3 “questions” (along the lines of those above) and answer them. Remember that presentation matters here.\n",
    "- Question1: Which airlines have the most and least delays? \n",
    "- Question2: How distance influence difference between actual and expected elpased time?\n",
    "- Question3: Estimating a new flight depart from LAX about how long it delays if it does."
   ]
  },
  {
   "cell_type": "markdown",
   "id": "fa660fe5",
   "metadata": {},
   "source": [
    "Question1: Which airlines have the most and least delays?<br>\n",
    "Because each airline has different total number of flights, comparing the ratio of delay is more accurate. \n",
    "The flight is not delayed when its value of DepDelayMinutes is equal to 0.\n",
    "Result1:<br>\n",
    "Southwest has the highest delayed ratio 0.45, \n",
    "Cape Air has the lowest, 0.15"
   ]
  },
  {
   "cell_type": "code",
   "execution_count": 42,
   "id": "32ee2767",
   "metadata": {},
   "outputs": [],
   "source": [
    "selected_df.createOrReplaceTempView(\"flights\")"
   ]
  },
  {
   "cell_type": "code",
   "execution_count": 43,
   "id": "d4828707",
   "metadata": {},
   "outputs": [],
   "source": [
    "total_flights_per_airline = spark.sql(\"\"\"\n",
    "                                        SELECT airline, COUNT(*) as totalFlights\n",
    "                                        FROM flights\n",
    "                                        GROUP BY airline\n",
    "                                        \"\"\")\n",
    "delayed_flights_per_airline = spark.sql(\"\"\"\n",
    "                                        SELECT airline, COUNT(*) as delayedFlights\n",
    "                                        FROM flights\n",
    "                                        WHERE DepDelayMinutes > 0\n",
    "                                        GROUP BY airline\n",
    "                                        \"\"\")"
   ]
  },
  {
   "cell_type": "code",
   "execution_count": 44,
   "id": "88526bc5",
   "metadata": {},
   "outputs": [],
   "source": [
    "joined_table = total_flights_per_airline.join(delayed_flights_per_airline, \"airline\")"
   ]
  },
  {
   "cell_type": "code",
   "execution_count": 45,
   "id": "d5744823",
   "metadata": {
    "scrolled": true
   },
   "outputs": [
    {
     "name": "stderr",
     "output_type": "stream",
     "text": [
      "                                                                                \r"
     ]
    },
    {
     "name": "stdout",
     "output_type": "stream",
     "text": [
      "+--------------------+------------+--------------+-------------------+\n",
      "|             airline|totalFlights|delayedFlights|              ratio|\n",
      "+--------------------+------------+--------------+-------------------+\n",
      "|Southwest Airline...|     5474339|       2444541|0.44654541854276836|\n",
      "+--------------------+------------+--------------+-------------------+\n",
      "\n"
     ]
    },
    {
     "name": "stderr",
     "output_type": "stream",
     "text": [
      "\r",
      "[Stage 49:===============>(20 + 1) / 21][Stage 50:===============>(20 + 1) / 21]\r",
      "\r",
      "                                                                                \r"
     ]
    },
    {
     "name": "stdout",
     "output_type": "stream",
     "text": [
      "+--------+------------+--------------+-------------------+\n",
      "| airline|totalFlights|delayedFlights|              ratio|\n",
      "+--------+------------+--------------+-------------------+\n",
      "|Cape Air|        1661|           254|0.15291992775436483|\n",
      "+--------+------------+--------------+-------------------+\n",
      "\n"
     ]
    }
   ],
   "source": [
    "joined_table.createOrReplaceTempView(\"joined_table\")\n",
    "spark.sql(\"\"\"\n",
    "            SELECT *\n",
    "            FROM (\n",
    "                SELECT airline, totalFlights, delayedFlights, delayedFlights / totalFlights AS ratio\n",
    "                FROM joined_table\n",
    "            ) AS subquery\n",
    "            ORDER BY ratio DESC\n",
    "            LIMIT 1\n",
    "            \"\"\").show()\n",
    "spark.sql(\"\"\"\n",
    "            SELECT *\n",
    "            FROM (\n",
    "                SELECT airline, totalFlights, delayedFlights, delayedFlights / totalFlights AS ratio\n",
    "                FROM joined_table\n",
    "            ) AS subquery\n",
    "            ORDER BY ratio ASC\n",
    "            LIMIT 1\n",
    "            \"\"\").show()"
   ]
  },
  {
   "cell_type": "markdown",
   "id": "fba5a480",
   "metadata": {},
   "source": [
    "Question2: How distance influence difference between actual and expected elpased time?<br>\n",
    "The first time I use the difference between actual and expected elapsed time, and it seems that the difference doesn't change by distance, with the diff evenly among the range however distances are.\n",
    "I drew a graph of actual elapsed time corresponding to distance, obviously a straight line. "
   ]
  },
  {
   "cell_type": "code",
   "execution_count": 46,
   "id": "a62f411a",
   "metadata": {},
   "outputs": [
    {
     "name": "stderr",
     "output_type": "stream",
     "text": [
      "                                                                                \r"
     ]
    },
    {
     "data": {
      "image/png": "[encoded data removed]",
      "text/plain": [
       "<Figure size 1000x600 with 1 Axes>"
      ]
     },
     "metadata": {},
     "output_type": "display_data"
    }
   ],
   "source": [
    "sampled_df = selected_df.sample(False, 0.1)\n",
    "# sampled_df = sampled_df.withColumn(\"ElapsedTimeDiff\", sampled_df[\"ActualElapsedTime\"] - sampled_df[\"CRSElapsedTime\"])\n",
    "graph_df = sampled_df.select(\"Distance\", \"ActualElapsedTime\").toPandas()\n",
    "plt.figure(figsize=(10,6))\n",
    "plt.scatter(graph_df[\"Distance\"], graph_df[\"ActualElapsedTime\"], alpha=0.5)\n",
    "plt.title('Elapsed Time vs Distance')\n",
    "plt.xlabel('Distance(mile)')\n",
    "plt.ylabel('Elapsed Time Difference(min)')\n",
    "plt.show()"
   ]
  },
  {
   "cell_type": "markdown",
   "id": "7c6480e8",
   "metadata": {},
   "source": [
    "Question3: Estimating a new flight how long it delays if it does.\n",
    "Here I create a TensorFlow NN model to train 80% data and leave 20% testing data.<br>\n",
    "The loss of model tested by remaining part is 1600, which means there is 40 minutes difference compared to the actual delayed time. Not a small number, but I only run 100 epoches and 5% of the whole dataframe due to the restriction of CPU. Training more data will cause Mean Squared Error decrease gradually if the machine can support it. \n"
   ]
  },
  {
   "cell_type": "code",
   "execution_count": 24,
   "id": "77643edf",
   "metadata": {},
   "outputs": [],
   "source": [
    "ml_df = selected_df.dropna()\n",
    "ml_df = ml_df.filter(ml_df.Origin == \"LAX\")\n",
    "ml_df = ml_df.drop(\"Origin\")"
   ]
  },
  {
   "cell_type": "code",
   "execution_count": 25,
   "id": "2936404a",
   "metadata": {},
   "outputs": [
    {
     "name": "stderr",
     "output_type": "stream",
     "text": [
      "                                                                                \r"
     ]
    }
   ],
   "source": [
    "ml_df = ml_df.sample(False, 0.05)\n",
    "indexer = StringIndexer(inputCols= [\"Airline\", \"Dest\"], outputCols=[\"AirlineIndex\", \"DestIndex\"])\n",
    "ml_df = indexer.fit(ml_df).transform(ml_df)\n",
    "\n",
    "encoder = OneHotEncoder(inputCols= [\"AirlineIndex\", \"DestIndex\"], outputCols=[\"AirlineVec\", \"DestVec\"])\n",
    "ml_df = encoder.fit(ml_df).transform(ml_df)"
   ]
  },
  {
   "cell_type": "code",
   "execution_count": 27,
   "id": "2a5c12d2",
   "metadata": {},
   "outputs": [],
   "source": [
    "assembler = VectorAssembler(\n",
    "    inputCols=[\"AirlineVec\", \"DestVec\", \"CRSElapsedTime\", \"ActualElapsedTime\", \"Distance\"],\n",
    "    outputCol=\"features\")\n",
    "ml_df = assembler.transform(ml_df)\n"
   ]
  },
  {
   "cell_type": "code",
   "execution_count": 26,
   "id": "b3789acd",
   "metadata": {},
   "outputs": [
    {
     "name": "stderr",
     "output_type": "stream",
     "text": [
      "                                                                                \r"
     ]
    },
    {
     "data": {
      "text/plain": [
       "41552"
      ]
     },
     "execution_count": 26,
     "metadata": {},
     "output_type": "execute_result"
    }
   ],
   "source": [
    "ml_df.count()"
   ]
  },
  {
   "cell_type": "code",
   "execution_count": 28,
   "id": "9e97bf07",
   "metadata": {},
   "outputs": [
    {
     "name": "stderr",
     "output_type": "stream",
     "text": [
      "/bigdata/spark-3.3.2-bin-hadoop3/python/pyspark/sql/pandas/conversion.py:248: FutureWarning: Passing unit-less datetime64 dtype to .astype is deprecated and will raise in a future version. Pass 'datetime64[ns]' instead\n",
      "  series = series.astype(t, copy=False)\n",
      "/bigdata/spark-3.3.2-bin-hadoop3/python/pyspark/sql/pandas/conversion.py:248: FutureWarning: Passing unit-less datetime64 dtype to .astype is deprecated and will raise in a future version. Pass 'datetime64[ns]' instead\n",
      "  series = series.astype(t, copy=False)\n"
     ]
    }
   ],
   "source": [
    "train_data, test_data = ml_df.randomSplit([0.8, 0.2])\n",
    "train_pd = train_data.toPandas()\n",
    "test_pd = test_data.toPandas()"
   ]
  },
  {
   "cell_type": "code",
   "execution_count": 29,
   "id": "c157c9a0",
   "metadata": {},
   "outputs": [],
   "source": [
    "class Net(nn.Module):\n",
    "    def __init__(self, input_size):\n",
    "        super(Net, self).__init__()\n",
    "        self.fc1 = nn.Linear(input_size, 64)\n",
    "        self.fc2 = nn.Linear(64, 32)\n",
    "        self.fc3 = nn.Linear(32, 1)\n",
    "\n",
    "    def forward(self, x):\n",
    "        x = F.relu(self.fc1(x))\n",
    "        x = F.relu(self.fc2(x))\n",
    "        x = self.fc3(x)\n",
    "        return x"
   ]
  },
  {
   "cell_type": "code",
   "execution_count": 30,
   "id": "657e0a0e",
   "metadata": {},
   "outputs": [],
   "source": [
    "class FlightDelayDataset(Dataset):\n",
    "    def __init__(self, df):\n",
    "        self.df = df\n",
    "\n",
    "    def __len__(self):\n",
    "        return len(self.df)\n",
    "\n",
    "    def __getitem__(self, idx):\n",
    "        row = self.df.iloc[idx]\n",
    "        x = torch.tensor(row['features'], dtype=torch.float)\n",
    "        y = torch.tensor(row['DepDelayMinutes'], dtype=torch.float)\n",
    "        return x, y\n",
    "\n",
    "train_dataset = FlightDelayDataset(train_pd)\n",
    "test_dataset = FlightDelayDataset(test_pd)\n",
    "\n",
    "train_loader = DataLoader(train_dataset, batch_size=64, shuffle=True)\n",
    "test_loader = DataLoader(test_dataset, batch_size=64, shuffle=False)"
   ]
  },
  {
   "cell_type": "code",
   "execution_count": 32,
   "id": "96a46632",
   "metadata": {},
   "outputs": [
    {
     "name": "stderr",
     "output_type": "stream",
     "text": [
      "/home2/anaconda3/lib/python3.10/site-packages/torch/nn/modules/loss.py:530: UserWarning: Using a target size (torch.Size([64])) that is different to the input size (torch.Size([64, 1])). This will likely lead to incorrect results due to broadcasting. Please ensure they have the same size.\n",
      "  return F.mse_loss(input, target, reduction=self.reduction)\n",
      "/home2/anaconda3/lib/python3.10/site-packages/torch/nn/modules/loss.py:530: UserWarning: Using a target size (torch.Size([49])) that is different to the input size (torch.Size([49, 1])). This will likely lead to incorrect results due to broadcasting. Please ensure they have the same size.\n",
      "  return F.mse_loss(input, target, reduction=self.reduction)\n"
     ]
    },
    {
     "name": "stdout",
     "output_type": "stream",
     "text": [
      "Epoch 1 loss: 1644.637\n",
      "Epoch 2 loss: 1624.813\n",
      "Epoch 3 loss: 1623.349\n",
      "Epoch 4 loss: 1622.183\n",
      "Epoch 5 loss: 1621.024\n",
      "Epoch 6 loss: 1621.479\n",
      "Epoch 7 loss: 1620.311\n",
      "Epoch 8 loss: 1620.020\n",
      "Epoch 9 loss: 1619.674\n",
      "Epoch 10 loss: 1619.124\n",
      "Epoch 11 loss: 1620.065\n",
      "Epoch 12 loss: 1620.234\n",
      "Epoch 13 loss: 1619.291\n",
      "Epoch 14 loss: 1619.671\n",
      "Epoch 15 loss: 1618.715\n",
      "Epoch 16 loss: 1619.217\n",
      "Epoch 17 loss: 1619.239\n",
      "Epoch 18 loss: 1618.503\n",
      "Epoch 19 loss: 1619.659\n",
      "Epoch 20 loss: 1620.064\n",
      "Epoch 21 loss: 1618.428\n",
      "Epoch 22 loss: 1618.853\n",
      "Epoch 23 loss: 1618.647\n",
      "Epoch 24 loss: 1617.620\n",
      "Epoch 25 loss: 1618.854\n",
      "Epoch 26 loss: 1617.810\n",
      "Epoch 27 loss: 1618.472\n",
      "Epoch 28 loss: 1617.886\n",
      "Epoch 29 loss: 1618.050\n",
      "Epoch 30 loss: 1617.741\n",
      "Epoch 31 loss: 1618.723\n",
      "Epoch 32 loss: 1617.952\n",
      "Epoch 33 loss: 1617.457\n",
      "Epoch 34 loss: 1618.096\n",
      "Epoch 35 loss: 1619.892\n",
      "Epoch 36 loss: 1620.026\n",
      "Epoch 37 loss: 1617.669\n",
      "Epoch 38 loss: 1617.433\n",
      "Epoch 39 loss: 1617.343\n",
      "Epoch 40 loss: 1617.802\n",
      "Epoch 41 loss: 1617.492\n",
      "Epoch 42 loss: 1617.176\n",
      "Epoch 43 loss: 1617.848\n",
      "Epoch 44 loss: 1617.506\n",
      "Epoch 45 loss: 1617.526\n",
      "Epoch 46 loss: 1617.287\n",
      "Epoch 47 loss: 1617.286\n",
      "Epoch 48 loss: 1617.321\n",
      "Epoch 49 loss: 1620.447\n",
      "Epoch 50 loss: 1616.831\n",
      "Epoch 51 loss: 1616.428\n",
      "Epoch 52 loss: 1616.942\n",
      "Epoch 53 loss: 1617.373\n",
      "Epoch 54 loss: 1616.670\n",
      "Epoch 55 loss: 1616.947\n",
      "Epoch 56 loss: 1617.542\n",
      "Epoch 57 loss: 1617.599\n",
      "Epoch 58 loss: 1617.174\n",
      "Epoch 59 loss: 1616.723\n",
      "Epoch 60 loss: 1617.118\n",
      "Epoch 61 loss: 1617.325\n",
      "Epoch 62 loss: 1616.752\n",
      "Epoch 63 loss: 1618.378\n",
      "Epoch 64 loss: 1616.650\n",
      "Epoch 65 loss: 1617.576\n",
      "Epoch 66 loss: 1616.560\n",
      "Epoch 67 loss: 1616.542\n",
      "Epoch 68 loss: 1617.189\n",
      "Epoch 69 loss: 1616.678\n",
      "Epoch 70 loss: 1618.485\n",
      "Epoch 71 loss: 1616.435\n",
      "Epoch 72 loss: 1616.902\n",
      "Epoch 73 loss: 1616.493\n",
      "Epoch 74 loss: 1616.546\n",
      "Epoch 75 loss: 1616.860\n",
      "Epoch 76 loss: 1617.068\n",
      "Epoch 77 loss: 1616.391\n",
      "Epoch 78 loss: 1616.424\n",
      "Epoch 79 loss: 1622.569\n",
      "Epoch 80 loss: 1616.673\n",
      "Epoch 81 loss: 1616.570\n",
      "Epoch 82 loss: 1616.218\n",
      "Epoch 83 loss: 1616.795\n",
      "Epoch 84 loss: 1616.209\n",
      "Epoch 85 loss: 1616.090\n",
      "Epoch 86 loss: 1616.481\n",
      "Epoch 87 loss: 1617.086\n",
      "Epoch 88 loss: 1616.400\n",
      "Epoch 89 loss: 1616.641\n",
      "Epoch 90 loss: 1616.079\n",
      "Epoch 91 loss: 1616.381\n",
      "Epoch 92 loss: 1616.110\n",
      "Epoch 93 loss: 1616.091\n",
      "Epoch 94 loss: 1617.100\n",
      "Epoch 95 loss: 1616.684\n",
      "Epoch 96 loss: 1616.552\n",
      "Epoch 97 loss: 1616.702\n",
      "Epoch 98 loss: 1615.964\n",
      "Epoch 99 loss: 1616.315\n",
      "Epoch 100 loss: 1616.156\n"
     ]
    }
   ],
   "source": [
    "model = Net(input_size=134)\n",
    "criterion = nn.MSELoss()\n",
    "optimizer = optim.Adam(model.parameters(), lr=0.001)\n",
    "\n",
    "epochs = 100\n",
    "for epoch in range(epochs):\n",
    "    running_loss = 0.0\n",
    "    for i, data in enumerate(train_loader, 0):\n",
    "        inputs, labels = data\n",
    "\n",
    "        optimizer.zero_grad()\n",
    "\n",
    "        outputs = model(inputs)\n",
    "        loss = criterion(outputs, labels)\n",
    "        loss.backward()\n",
    "        optimizer.step()\n",
    "\n",
    "        running_loss += loss.item()\n",
    "    print('Epoch %d loss: %.3f' % (epoch + 1, running_loss / i))"
   ]
  },
  {
   "cell_type": "code",
   "execution_count": 34,
   "id": "0a7eb540",
   "metadata": {},
   "outputs": [
    {
     "name": "stdout",
     "output_type": "stream",
     "text": [
      "Test Loss: 1529.991\n"
     ]
    }
   ],
   "source": [
    "# Now test the model\n",
    "model.eval()\n",
    "with torch.no_grad():\n",
    "    total_loss = 0.0\n",
    "    total_items = 0\n",
    "    for data in test_loader:\n",
    "        inputs, labels = data\n",
    "        outputs = model(inputs)\n",
    "        loss = criterion(outputs, labels)\n",
    "        total_loss += loss.item() * inputs.size(0)\n",
    "        total_items += inputs.size(0)\n",
    "    print('Test Loss: %.3f' % (total_loss / total_items))"
   ]
  },
  {
   "cell_type": "code",
   "execution_count": null,
   "id": "5a904f9b",
   "metadata": {},
   "outputs": [],
   "source": []
  }
 ],
 "metadata": {
  "kernelspec": {
   "display_name": "Python 3 (ipykernel)",
   "language": "python",
   "name": "python3"
  },
  "language_info": {
   "codemirror_mode": {
    "name": "ipython",
    "version": 3
   },
   "file_extension": ".py",
   "mimetype": "text/x-python",
   "name": "python",
   "nbconvert_exporter": "python",
   "pygments_lexer": "ipython3",
   "version": "3.10.9"
  }
 },
 "nbformat": 4,
 "nbformat_minor": 5
}
